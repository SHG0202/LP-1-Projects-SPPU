{
  "nbformat": 4,
  "nbformat_minor": 0,
  "metadata": {
    "colab": {
      "name": "HPC 4.ipynb",
      "provenance": [],
      "collapsed_sections": []
    },
    "kernelspec": {
      "name": "python3",
      "display_name": "Python 3"
    },
    "accelerator": "GPU"
  },
  "cells": [
    {
      "cell_type": "markdown",
      "source": [
        "# **Parallel Binary Search using MPI**"
      ],
      "metadata": {
        "id": "VLSLun3gz0Dg"
      }
    },
    {
      "cell_type": "code",
      "source": [
        "code = \"\"\"\n",
        "#include<mpi.h>\n",
        "#include<stdio.h>\n",
        "\n",
        "#define n 12\n",
        "\n",
        "#define key 55\n",
        "\n",
        "int a[] = {1,2,3,4,7,9,13,24,55,56,67,88};\n",
        "\n",
        "int a2[20];\n",
        "\n",
        "int binarySearch(int *array, int start, int end, int value) {\n",
        "    int mid;\n",
        "    \n",
        "    while(start <= end) {\n",
        "        mid = (start + end) / 2;\n",
        "        if(array[mid] == value) \n",
        "            return mid;\n",
        "        else if(array[mid] > value)\n",
        "            end = mid - 1;\n",
        "        else\n",
        "            start = mid + 1;\n",
        "    }\n",
        "    return -1;\n",
        "}\n",
        "\n",
        "int main(int argc, char* argv[]) {\n",
        "    int pid, np, elements_per_process, n_elements_received;\n",
        "    \n",
        "    MPI_Status status;\n",
        "    \n",
        "    MPI_Init(&argc, &argv);\n",
        "    \n",
        "    MPI_Comm_rank(MPI_COMM_WORLD, &pid);\n",
        "    MPI_Comm_size(MPI_COMM_WORLD, &np);\n",
        "\n",
        "    //printf(\"np = %d\", np);\n",
        "    \n",
        "    if(pid == 0) {\n",
        "        int index, i;\n",
        "        \n",
        "        if(np > 1) {\n",
        "            for(i=1; i<np-1; i++) {\n",
        "                \n",
        "                index = i * elements_per_process;\n",
        "                //element count\n",
        "                MPI_Send(&elements_per_process, 1, MPI_INT, i, 0, MPI_COMM_WORLD);\n",
        "\n",
        "                MPI_Send(&a[index], elements_per_process, MPI_INT, i, 0, MPI_COMM_WORLD);\n",
        "            \n",
        "            }\n",
        "            \n",
        "            index = i* elements_per_process;\n",
        "            \n",
        "            int elements_left = n - index;\n",
        "            \n",
        "            MPI_Send(&elements_left, 1, MPI_INT, i, 0, MPI_COMM_WORLD);\n",
        "            MPI_Send(&a[index], elements_left, MPI_INT, i, 0, MPI_COMM_WORLD);\n",
        "        }\n",
        "        \n",
        "        int position = binarySearch(a, 0, elements_per_process-1, key);\n",
        "        \n",
        "        if(position != -1)\n",
        "          printf(\"Found at: %d position\", position);\n",
        "        \n",
        "        int temp;\n",
        "        \n",
        "        for(i=1; i<np; i++) {\n",
        "            MPI_Recv(&temp, 1, MPI_INT, MPI_ANY_SOURCE, 0, MPI_COMM_WORLD, &status);\n",
        "            int sender = status.MPI_SOURCE;\n",
        "            \n",
        "            if(temp != -1)\n",
        "                printf(\"Found at: %d position by %d process number\", (sender*elements_per_process)+temp, sender);\n",
        "        }\n",
        "    }\n",
        "    \n",
        "    else {\n",
        "        MPI_Recv(&n_elements_received, 1, MPI_INT, 0, 0, MPI_COMM_WORLD, &status);\n",
        "        \n",
        "        MPI_Recv(&a2, n_elements_received, MPI_INT, 0, 0, MPI_COMM_WORLD, &status);\n",
        "    \n",
        "        int position = binarySearch(a2, 0, n_elements_received-1, key);\n",
        "        \n",
        "        MPI_Send(&position, 1, MPI_INT, 0, 0, MPI_COMM_WORLD);\n",
        "    }\n",
        "    \n",
        "    MPI_Finalize();\n",
        "    \n",
        "    return 0;\n",
        "}\n",
        "\"\"\""
      ],
      "metadata": {
        "id": "q4zDSV3Ez5R0"
      },
      "execution_count": 124,
      "outputs": []
    },
    {
      "cell_type": "code",
      "source": [
        "file_ = open(\"BinarySearch.c\", \"w\");\n",
        "file_.write(code);\n",
        "file_.close();"
      ],
      "metadata": {
        "id": "loggh3rI0XLo"
      },
      "execution_count": 125,
      "outputs": []
    },
    {
      "cell_type": "code",
      "source": [
        "!mpiCC BinarySearch.c"
      ],
      "metadata": {
        "id": "_xBj11F_0ZlG"
      },
      "execution_count": 126,
      "outputs": []
    },
    {
      "cell_type": "code",
      "source": [
        "!mpirun --allow-run-as-root -np 4 ./a.out"
      ],
      "metadata": {
        "colab": {
          "base_uri": "https://localhost:8080/",
          "height": 0
        },
        "id": "sr08Owf-0bUu",
        "outputId": "93c7938e-5b3c-4025-fe00-fc6b4282ba95"
      },
      "execution_count": 127,
      "outputs": [
        {
          "output_type": "stream",
          "name": "stdout",
          "text": [
            "Found at: 8 position by 3 process number"
          ]
        }
      ]
    },
    {
      "cell_type": "markdown",
      "source": [
        "# **Parallel BFS**"
      ],
      "metadata": {
        "id": "yJVBH8V91on2"
      }
    },
    {
      "cell_type": "code",
      "source": [
        "code = \"\"\"\n",
        "#include <bits/stdc++.h>\n",
        "#include <omp.h>\n",
        "\n",
        "using namespace std;\n",
        "\n",
        "list<int>q;   // queue\n",
        "vector<int>w(7,1000);   // weight \n",
        "int visited[7];   // visited array\n",
        "\n",
        "// Comp function to select best node\n",
        "struct Comp {\n",
        "  bool operator ()(const int & a, const int & b) {\n",
        "    return w[a]<w[b];\n",
        "  }\n",
        "};\n",
        "\n",
        "// best first search function\n",
        "void bestFirstSearch(int adj_matrix[7][7], int n_nodes) {\n",
        "  // if q is empty, return\n",
        "  if(q.empty())\n",
        "    return;\n",
        "\n",
        "  // sort queue such that node with lowest weight is in front\n",
        "  q.sort(Comp());\n",
        "\n",
        "  // pop front of queue\n",
        "  int cur_node = q.front();\n",
        "  q.pop_front();\n",
        "  printf(\"%d, \", cur_node);\n",
        "  \n",
        "  #pragma omp parallel for shared(visited)\n",
        "  for(int i=0; i<n_nodes; i++) {\n",
        "    if(adj_matrix[cur_node][i] > 0 && visited[i] == 0) {\n",
        "      if(w[i] > adj_matrix[cur_node][i]){\n",
        "        w[i] = adj_matrix[cur_node][i];\n",
        "      }\n",
        "      q.push_back(i);\n",
        "      visited[i]=1;\n",
        "    }\n",
        "  }\n",
        "  \n",
        "  bestFirstSearch(adj_matrix, n_nodes);\n",
        "}\n",
        "int main() {\n",
        "  int th = omp_get_max_threads();   // get max threads\n",
        "  cout << \"Max Threads : \" << th << endl;\n",
        "\n",
        "  int n_nodes = 7;    // total nodes = 7\n",
        "\n",
        "  // mark all nodes as not visited\n",
        "  for(int i=0; i<n_nodes; i++) {    \n",
        "    visited[i] = 0;\n",
        "  }\n",
        "\n",
        "  // weight matrix\n",
        "  int adj_matrix[7][7] = {\n",
        "                            {0,   10,   20,   0,    0,    0,    0},\n",
        "                            {10,   0,   30,  30,    0,    0,    0},\n",
        "                            {20,  30,    0,   0,   40,    0,    0},\n",
        "                            {0,   30,    0,   0,   20,    0,    0},\n",
        "                            {0,    0,   40,  20,    0,   10,    0},\n",
        "                            {0,    0,    0,   0,   10,    0,   20},\n",
        "                            {0,    0,    0,   0,    0,   20,    0}\n",
        "                        };\n",
        "\n",
        "  int start_node = 3;   // start node\n",
        "\n",
        "  q.push_back(start_node);    // push start node in queue\n",
        "  \n",
        "  w[start_node] = 0;    // weight of start node is 0\n",
        "  \n",
        "  visited[start_node] = 1;    // mark start node as visited\n",
        "  \n",
        "  bestFirstSearch(adj_matrix, n_nodes);   // call best first search function\n",
        "  \n",
        "  return 0;\n",
        "}\n",
        "\"\"\""
      ],
      "metadata": {
        "id": "gBVSDGNP1tfv"
      },
      "execution_count": 132,
      "outputs": []
    },
    {
      "cell_type": "code",
      "source": [
        "file_ = open(\"bfs.cpp\", \"w\")\n",
        "file_.write(code)\n",
        "file_.close()"
      ],
      "metadata": {
        "id": "-ZRHRc422sI9"
      },
      "execution_count": 133,
      "outputs": []
    },
    {
      "cell_type": "code",
      "source": [
        "!g++ -fopenmp bfs.cpp"
      ],
      "metadata": {
        "id": "L6UKr7Ts2tqN"
      },
      "execution_count": 134,
      "outputs": []
    },
    {
      "cell_type": "code",
      "source": [
        "!./a.out"
      ],
      "metadata": {
        "colab": {
          "base_uri": "https://localhost:8080/",
          "height": 0
        },
        "id": "P8395c6P2vRN",
        "outputId": "d488bca3-bf7e-494a-bf4f-128612275063"
      },
      "execution_count": 135,
      "outputs": [
        {
          "output_type": "stream",
          "name": "stdout",
          "text": [
            "Max Threads : 2\n",
            "3, 4, 5, 6, 1, 0, 2, "
          ]
        }
      ]
    }
  ]
}